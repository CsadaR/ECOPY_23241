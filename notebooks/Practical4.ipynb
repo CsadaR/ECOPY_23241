{
 "cells": [
  {
   "cell_type": "markdown",
   "source": [
    "### A heti notebook mellett erősen ajánlott a DataCamp témához kapcsolódó kurzusainak elvégzése. A héten nem töltök fel unit testet"
   ],
   "metadata": {
    "collapsed": false
   },
   "id": "7bf65558189787a8"
  },
  {
   "cell_type": "markdown",
   "source": [
    "#### A feladatok megoldásához a pandas, a  matplotlib és a typing package-k használhatók. Az ábrák esetében a README-ben is linkelt Axes object alapú megközelítést használd."
   ],
   "metadata": {
    "collapsed": false
   },
   "id": "670eb978efbc6f7"
  },
  {
   "cell_type": "code",
   "execution_count": null,
   "outputs": [],
   "source": [
    "'''\n",
    "FONTOS: Az első feladatáltal visszaadott DataFrame-et kell használni a további feladatokhoz. A függvényeken belül mindig készíts egy másolatot a bemenő df-ről, (new_df = df.copy() és ezzel dolgozz tovább.)\n",
    "'''"
   ],
   "metadata": {
    "collapsed": false
   },
   "id": "initial_id"
  },
  {
   "cell_type": "code",
   "execution_count": null,
   "outputs": [],
   "source": [
    "'''\n",
    "1. Készíts egy függvényt ami a bemeneti dictionary-ből egy DataFrame-et ad vissza.\n",
    "\n",
    "függvény bemenete: test_dict\n",
    "Egy példa a kimenetre: test_df\n",
    "kimeneti típus: pandas.core.frame.DataFrame\n",
    "függvény neve: dict_to_dataframe\n",
    "'''"
   ],
   "metadata": {
    "collapsed": false
   },
   "id": "8bbcaf3fe36146ad"
  },
  {
   "cell_type": "code",
   "execution_count": null,
   "outputs": [],
   "source": [
    "stats = {\"country\": [\"Brazil\", \"Russia\", \"India\", \"China\", \"South Africa\"],\n",
    "       \"capital\": [\"Brasilia\", \"Moscow\", \"New Dehli\", \"Beijing\", \"Pretoria\"],\n",
    "       \"area\": [8.516, 17.10, 3.286, 9.597, 1.221],\n",
    "       \"population\": [200.4, 143.5, 1252, 1357, 52.98] }"
   ],
   "metadata": {
    "collapsed": false
   },
   "id": "2c9ff116df8241e"
  },
  {
   "cell_type": "code",
   "execution_count": null,
   "outputs": [],
   "source": [
    "import pandas as pd\n",
    "\n",
    "def dict_to_dataframe(test_dict):\n",
    "    return pd.DataFrame(test_dict)\n",
    "\n",
    "# usage\n",
    "df = dict_to_dataframe(stats)"
   ],
   "metadata": {
    "collapsed": false
   },
   "id": "6b24ec77cdef3452"
  },
  {
   "cell_type": "code",
   "execution_count": null,
   "outputs": [],
   "source": [
    "'''\n",
    "2. Készíts egy függvényt ami a bemeneti DataFrame-ből vissza adja csak azt az oszlopot amelynek a neve a bemeneti string-el megegyező.\n",
    "\n",
    "függvény bemenete: test_df, column_name\n",
    "Egy példa a kimenetre: test_df\n",
    "kimeneti típus: pandas.core.series.Series\n",
    "függvény neve: get_column\n",
    "'''"
   ],
   "metadata": {
    "collapsed": false
   },
   "id": "55ac5822b428021d"
  },
  {
   "cell_type": "code",
   "execution_count": null,
   "outputs": [],
   "source": [
    "def get_column(test_df, column_name):\n",
    "    new_df = test_df.copy()\n",
    "    if column_name in new_df.columns:\n",
    "        return new_df[column_name]\n",
    "    raise ValueError(f\"Column '{column_name}' not found in DataFrame\")\n",
    "\n",
    "# usage\n",
    "get_column(df, 'country')"
   ],
   "metadata": {
    "collapsed": false
   },
   "id": "f96be991c8af5bd"
  },
  {
   "cell_type": "code",
   "execution_count": null,
   "outputs": [],
   "source": [
    "'''\n",
    "3. Készíts egy függvényt ami a bemeneti DataFrame-ből kiszámolja az országok népsűrűségét és eltárolja az eredményt egy új oszlopba ('density').\n",
    "(density = population / area)\n",
    "\n",
    "függvény bemenete: test_df\n",
    "Egy példa a kimenetre: test_df\n",
    "kimeneti típus: pandas.core.frame.DataFrame\n",
    "függvény neve: population_density\n",
    "'''"
   ],
   "metadata": {
    "collapsed": false
   },
   "id": "1ad00850da164791"
  },
  {
   "cell_type": "code",
   "execution_count": null,
   "outputs": [],
   "source": [
    "def population_density(test_df):\n",
    "    new_df = test_df.copy()\n",
    "    if ('population' and 'area') in new_df.columns:\n",
    "        new_df['density'] = new_df['population'] / new_df['area']\n",
    "        return new_df\n",
    "    raise ValueError(f\"Column 'population' or 'area' not found in DataFrame\")\n",
    "\n",
    "# usage\n",
    "population_density(df)"
   ],
   "metadata": {
    "collapsed": false
   },
   "id": "b2c10780de7f2b22"
  },
  {
   "cell_type": "code",
   "execution_count": null,
   "outputs": [],
   "source": [
    "'''\n",
    "4. Készíts egy függvényt, ami a bemeneti Dataframe adatai alapján elkészít egy olyan oszlopdiagramot (bar plot),\n",
    "ami vizualizálja az országok népességét.\n",
    "\n",
    "Az oszlopdiagram címe legyen: 'Population of Countries'\n",
    "Az x tengely címe legyen: 'Country'\n",
    "Az y tengely címe legyen: 'Population (millions)'\n",
    "\n",
    "függvény bemenete: test_df\n",
    "Egy példa a kimenetre: fig\n",
    "kimeneti típus: matplotlib.figure.Figure\n",
    "függvény neve: plot_population\n",
    "'''"
   ],
   "metadata": {
    "collapsed": false
   },
   "id": "55a9b572929dfe2a"
  },
  {
   "cell_type": "code",
   "execution_count": null,
   "outputs": [],
   "source": [
    "import matplotlib.pyplot as plt\n",
    "\n",
    "def plot_population(test_df):\n",
    "    countries = test_df['country']\n",
    "    population = test_df['population']\n",
    "\n",
    "    fig, ax = plt.subplots(figsize=(12, 6))\n",
    "    ax.bar(countries, population, color='firebrick')\n",
    "\n",
    "    ax.set_title('Population of Countries')\n",
    "    ax.set_xlabel('Country')\n",
    "    ax.set_ylabel('Population (millions)')\n",
    "\n",
    "    plt.xticks(rotation=90)\n",
    "\n",
    "    return fig\n",
    "\n",
    "# usage\n",
    "plot = plot_population(df)\n",
    "plot.show()"
   ],
   "metadata": {
    "collapsed": false
   },
   "id": "2521a8aa5627a5c8"
  },
  {
   "cell_type": "code",
   "execution_count": null,
   "outputs": [],
   "source": [
    "'''\n",
    "5. Készíts egy függvényt, ami a bemeneti Dataframe adatai alapján elkészít egy olyan kördiagramot,\n",
    "ami vizualizálja az országok területét. Minden körcikknek legyen egy címe, ami az ország neve.\n",
    "\n",
    "Az kördiagram címe legyen: 'Area of Countries'\n",
    "\n",
    "függvény bemenete: test_df\n",
    "Egy példa a kimenetre: fig\n",
    "kimeneti típus: matplotlib.figure.Figure\n",
    "függvény neve: plot_area\n",
    "'''"
   ],
   "metadata": {
    "collapsed": false
   },
   "id": "51df14eeb5a59447"
  },
  {
   "cell_type": "code",
   "execution_count": null,
   "outputs": [],
   "source": [
    "import matplotlib.pyplot as plt\n",
    "\n",
    "def plot_area(test_df):\n",
    "    countries = test_df['country']\n",
    "    area = test_df['area']\n",
    "\n",
    "    fig, ax = plt.subplots(figsize=(8, 8))\n",
    "    ax.pie(area, labels=countries, autopct='%1.1f%%', startangle=90)\n",
    "\n",
    "    ax.set_title('Area of Countries')\n",
    "\n",
    "    return fig\n",
    "\n",
    "# usage\n",
    "plot = plot_area(df)\n",
    "plot.show()"
   ],
   "metadata": {
    "collapsed": false
   },
   "id": "8b699e1cbddcf606"
  },
  {
   "cell_type": "markdown",
   "source": [
    "Az ezt követő feladatokhoz az adatot (StudentsPerformance) a data mappában találod"
   ],
   "metadata": {
    "collapsed": false
   },
   "id": "9bb68abad1319c47"
  },
  {
   "cell_type": "code",
   "execution_count": null,
   "outputs": [],
   "source": [
    "'''\n",
    "FONTOS: Az első feladatáltal visszaadott DataFrame-et kell használni a további feladatokhoz. A függvényeken belül mindig készíts egy másolatot a bemenő df-ről, (new_df = df.copy() és ezzel dolgozz tovább.)\n",
    "'''"
   ],
   "metadata": {
    "collapsed": false
   },
   "id": "8f14d78ec59ec2c"
  },
  {
   "cell_type": "code",
   "execution_count": null,
   "outputs": [],
   "source": [
    "'''\n",
    "1., Készíts egy függvényt, ami egy string útvonalat vár paraméterként, és egy DataFrame ad visszatérési értékként.\n",
    "\n",
    "függvény bemente: input_csv\n",
    "Egy példa a kimenetre: df_data\n",
    "kimeneti típus: pandas.core.frame.DataFrame\n",
    "függvény neve: csv_to_df\n",
    "'''"
   ],
   "metadata": {
    "collapsed": false
   },
   "id": "65cd23e63070e453"
  },
  {
   "cell_type": "code",
   "execution_count": null,
   "outputs": [],
   "source": [
    "import pandas as pd\n",
    "\n",
    "def csv_to_df(input_csv):\n",
    "    try:\n",
    "        return pd.read_csv(input_csv)\n",
    "    except Exception as e:\n",
    "        raise ValueError(f\"Error while parsing CSV: {str(e)}\")\n",
    "\n",
    "df_1 = csv_to_df('../data/StudentsPerformance.csv')"
   ],
   "metadata": {
    "collapsed": false
   },
   "id": "1d04a181edfa53f4"
  },
  {
   "cell_type": "code",
   "execution_count": null,
   "outputs": [],
   "source": [
    "'''\n",
    "2., Készíts egy függvényt, ami egy DataFrame-et vár paraméterként,\n",
    "és átalakítja azoknak az oszlopoknak a nevét nagybetűsre amelyiknek neve nem tartalmaz 'e' betüt.\n",
    "\n",
    "függvény bemente: input_df\n",
    "Egy példa a kimenetre: df_data_capitalized\n",
    "kimeneti típus: pandas.core.frame.DataFrame\n",
    "függvény neve: capitalize_columns\n",
    "'''"
   ],
   "metadata": {
    "collapsed": false
   },
   "id": "50bad24fd8a4e367"
  },
  {
   "cell_type": "code",
   "execution_count": null,
   "outputs": [],
   "source": [
    "def capitalize_columns(input_df):\n",
    "    new_df = input_df.copy()\n",
    "    try:\n",
    "        return new_df.rename(columns=lambda x: x.upper() if 'e' not in x else x)\n",
    "    except Exception as e:\n",
    "        raise ValueError(f\"Error while capitalizing columns: {str(e)}\")\n",
    "\n",
    "# usage\n",
    "df_data_capitalized = capitalize_columns(df_1)\n",
    "df_data_capitalized"
   ],
   "metadata": {
    "collapsed": false
   },
   "id": "80755498f856534d"
  },
  {
   "cell_type": "code",
   "execution_count": null,
   "outputs": [],
   "source": [
    "'''\n",
    "3., Készíts egy függvényt, ahol egy szám formájában vissza adjuk, hogy hány darab diáknak sikerült teljesíteni a matek vizsgát.\n",
    "(legyen az átmenő ponthatár 50).\n",
    "\n",
    "függvény bemente: input_df\n",
    "Egy példa a kimenetre: 5\n",
    "kimeneti típus: int\n",
    "függvény neve: math_passed_count\n",
    "'''"
   ],
   "metadata": {
    "collapsed": false
   },
   "id": "2fb19f87d648ce3e"
  },
  {
   "cell_type": "code",
   "execution_count": null,
   "outputs": [],
   "source": [
    "def math_passed_count(input_df):\n",
    "    return len(input_df[input_df['math score'] >= 50])\n",
    "\n",
    "# usage\n",
    "count = math_passed_count(df_1)\n",
    "count"
   ],
   "metadata": {
    "collapsed": false
   },
   "id": "6bc99c2dcf0133df"
  },
  {
   "cell_type": "code",
   "execution_count": null,
   "outputs": [],
   "source": [
    "'''\n",
    "4., Készíts egy függvényt, ahol Dataframe ként vissza adjuk azoknak a diákoknak az adatait (sorokat), akik végeztek előzetes gyakorló kurzust.\n",
    "\n",
    "függvény bemente: input_df\n",
    "Egy példa a kimenetre: df_did_pre_course\n",
    "kimeneti típus: pandas.core.frame.DataFrame\n",
    "függvény neve: did_pre_course\n",
    "'''"
   ],
   "metadata": {
    "collapsed": false
   },
   "id": "700e17cde1e8c093"
  },
  {
   "cell_type": "code",
   "execution_count": null,
   "outputs": [],
   "source": [
    "def did_pre_course(input_df):\n",
    "    new_df = input_df.copy()\n",
    "    return new_df[new_df['test preparation course'] == 'completed']\n",
    "\n",
    "# usage\n",
    "did_pre_course(df_1)"
   ],
   "metadata": {
    "collapsed": false
   },
   "id": "eead7c083358de29"
  },
  {
   "cell_type": "code",
   "execution_count": null,
   "outputs": [],
   "source": [
    "'''\n",
    "5., Készíts egy függvényt, ahol a bemeneti Dataframet a diákok szülei végzettségi szintjei alapján csoportosításra kerül,\n",
    "majd aggregációként vegyük, hogy átlagosan milyen pontszámot értek el a diákok a vizsgákon.\n",
    "\n",
    "függvény bemente: input_df\n",
    "Egy példa a kimenetre: df_average_scores\n",
    "kimeneti típus: pandas.core.frame.DataFrame\n",
    "függvény neve: average_scores\n",
    "'''"
   ],
   "metadata": {
    "collapsed": false
   },
   "id": "eb06e00175bdff7a"
  },
  {
   "cell_type": "code",
   "execution_count": null,
   "outputs": [],
   "source": [
    "def average_scores(input_df):\n",
    "    new_df = input_df.copy()\n",
    "    return new_df.groupby('parental level of education').agg({\n",
    "        'math score': 'mean',\n",
    "        'reading score': 'mean',\n",
    "        'writing score': 'mean'\n",
    "    })\n",
    "\n",
    "# usage\n",
    "average_scores(df_1)"
   ],
   "metadata": {
    "collapsed": false
   },
   "id": "3bc525fde8e39ee3"
  },
  {
   "cell_type": "code",
   "execution_count": null,
   "outputs": [],
   "source": [
    "'''\n",
    "6., Készíts egy függvényt, ami a bementeti Dataframet kiegészíti egy 'age' oszloppal, töltsük fel random 18-66 év közötti értékekkel.\n",
    "A random.randint() függvényt használd, a random sorsolás legyen seedleve, ennek értéke legyen 42.\n",
    "\n",
    "függvény bemente: input_df\n",
    "Egy példa a kimenetre: df_data_with_age\n",
    "kimeneti típus: pandas.core.frame.DataFrame\n",
    "függvény neve: add_age\n",
    "'''"
   ],
   "metadata": {
    "collapsed": false
   },
   "id": "63cf6881d83388a5"
  },
  {
   "cell_type": "code",
   "execution_count": null,
   "outputs": [],
   "source": [
    "import random\n",
    "\n",
    "def add_age(input_df):\n",
    "    new_df = input_df.copy()\n",
    "    random.seed(42)\n",
    "    new_df['age'] = [random.randint(18, 66) for _ in range(len(new_df))]\n",
    "    return new_df\n",
    "\n",
    "# usage\n",
    "add_age(df_1)"
   ],
   "metadata": {
    "collapsed": false
   },
   "id": "ca6c5548fce90040"
  },
  {
   "cell_type": "code",
   "execution_count": null,
   "outputs": [],
   "source": [
    "'''\n",
    "7., Készíts egy függvényt, ami vissza adja a legjobb teljesítményt elérő női diák pontszámait.\n",
    "\n",
    "függvény bemente: input_df\n",
    "Egy példa a kimenetre: (99,99,99) #math score, reading score, writing score\n",
    "kimeneti típus: tuple\n",
    "függvény neve: female_top_score\n",
    "'''"
   ],
   "metadata": {
    "collapsed": false
   },
   "id": "8abd8545dbbc5dc3"
  },
  {
   "cell_type": "code",
   "execution_count": null,
   "outputs": [],
   "source": [
    "def female_top_score(input_df):\n",
    "    new_df = input_df.copy()\n",
    "    female_df = new_df[new_df['gender'] == 'female']\n",
    "\n",
    "    top_female_student = female_df.loc[(female_df['math score'] + female_df['reading score'] + female_df['writing score']).idxmax()]\n",
    "\n",
    "    student_info = (top_female_student['math score'], top_female_student['reading score'], top_female_student['writing score'])\n",
    "    return student_info\n",
    "\n",
    "# usage\n",
    "female_top_score(df_1)"
   ],
   "metadata": {
    "collapsed": false
   },
   "id": "32366b29ea96040c"
  },
  {
   "cell_type": "code",
   "execution_count": null,
   "outputs": [],
   "source": [
    "'''\n",
    "8., Készíts egy függvényt, ami a bementeti Dataframet kiegészíti egy 'grade' oszloppal. Számoljuk ki hogy a diákok hány százalékot ((math+reading+writing)/300) értek el a vizsgán, és osztályozzuk őket az alábbi szempontok szerint:\n",
    "\n",
    "90-100%: 5\n",
    "80-90%: 4\n",
    "66-80%: 3\n",
    "50-65%: 2\n",
    "<50%: 1\n",
    "\n",
    "függvény bemente: input_df\n",
    "Egy példa a kimenetre: df_data_with_grade\n",
    "kimeneti típus: pandas.core.frame.DataFrame\n",
    "függvény neve: add_grade\n",
    "'''"
   ],
   "metadata": {
    "collapsed": false
   },
   "id": "3ced4ddf7eaf869b"
  },
  {
   "cell_type": "code",
   "execution_count": null,
   "outputs": [],
   "source": [
    "import pandas as pd\n",
    "\n",
    "def add_grade(input_df):\n",
    "    new_df = input_df.copy()\n",
    "    new_df['percentage'] = (new_df['math score'] + new_df['reading score'] + new_df['writing score']) / 300 * 100\n",
    "\n",
    "    new_df['grade'] = pd.cut(new_df['percentage'], bins=[0, 50, 66, 80, 90, 100], labels=[1, 2, 3, 4, 5])\n",
    "\n",
    "    new_df = new_df.drop(columns=['percentage'])\n",
    "\n",
    "    return new_df\n",
    "\n",
    "# usage\n",
    "add_grade(df_1)"
   ],
   "metadata": {
    "collapsed": false
   },
   "id": "ecbbcc0de7943fa2"
  },
  {
   "cell_type": "code",
   "execution_count": null,
   "outputs": [],
   "source": [
    "'''\n",
    "9., Készíts egy függvényt, ami a bemeneti Dataframe adatai alapján elkészít egy olyan oszlop diagrammot, ami vizualizálja a nemek által elért átlagos matek pontszámot.\n",
    "\n",
    "Oszlopdiagram címe legyen: 'Average Math Score by Gender'\n",
    "Az x tengely címe legyen: 'Gender'\n",
    "Az y tengely címe legyen: 'Math Score'\n",
    "\n",
    "függvény bemente: input_df\n",
    "Egy példa a kimenetre: fig\n",
    "kimeneti típus: matplotlib.figure.Figure\n",
    "függvény neve: math_bar_plot\n",
    "'''"
   ],
   "metadata": {
    "collapsed": false
   },
   "id": "6838c17f0aa93f0a"
  },
  {
   "cell_type": "code",
   "execution_count": null,
   "outputs": [],
   "source": [
    "import matplotlib.pyplot as plt\n",
    "\n",
    "def math_bar_plot(input_df):\n",
    "    new_df = input_df.copy()\n",
    "    gender_math_scores = new_df.groupby('gender')['math score'].mean()\n",
    "    genders = gender_math_scores.index\n",
    "    scores = gender_math_scores.values\n",
    "\n",
    "    fig, ax = plt.subplots(figsize=(8, 6))\n",
    "    ax.bar(genders, scores, color='skyblue')\n",
    "\n",
    "    ax.set_title('Average Math Score by Gender')\n",
    "    ax.set_xlabel('Gender')\n",
    "    ax.set_ylabel('Math Score')\n",
    "\n",
    "    return fig\n",
    "\n",
    "# usage\n",
    "plot = math_bar_plot(df_1)\n",
    "plot.show()"
   ],
   "metadata": {
    "collapsed": false
   },
   "id": "1a6993c7c280a77f"
  },
  {
   "cell_type": "code",
   "execution_count": null,
   "outputs": [],
   "source": [
    "''' \n",
    "10., Készíts egy függvényt, ami a bemeneti Dataframe adatai alapján elkészít egy olyan histogramot, ami vizualizálja az elért írásbeli pontszámokat.\n",
    "\n",
    "A histogram címe legyen: 'Distribution of Writing Scores'\n",
    "Az x tengely címe legyen: 'Writing Score'\n",
    "Az y tengely címe legyen: 'Number of Students'\n",
    "\n",
    "függvény bemente: input_df\n",
    "Egy példa a kimenetre: fig\n",
    "kimeneti típus: matplotlib.figure.Figure\n",
    "függvény neve: writing_hist\n",
    "'''"
   ],
   "metadata": {
    "collapsed": false
   },
   "id": "f1d4c22ce458336b"
  },
  {
   "cell_type": "code",
   "execution_count": null,
   "outputs": [],
   "source": [
    "import matplotlib.pyplot as plt\n",
    "\n",
    "def writing_hist(input_df):\n",
    "    new_df = input_df.copy()\n",
    "    writing_scores = new_df['writing score']\n",
    "        \n",
    "    fig, ax = plt.subplots(figsize=(8, 6))\n",
    "    ax.hist(writing_scores, bins=10, color='skyblue')\n",
    "\n",
    "    ax.set_title('Distribution of Writing Scores')\n",
    "    ax.set_xlabel('Writing Score')\n",
    "    ax.set_ylabel('Number of Students')\n",
    "\n",
    "    return fig\n",
    "\n",
    "# usage\n",
    "plot = writing_hist(df_1)\n",
    "plot.show()"
   ],
   "metadata": {
    "collapsed": false
   },
   "id": "fa61d08952457b03"
  },
  {
   "cell_type": "code",
   "execution_count": null,
   "outputs": [],
   "source": [
    "''' \n",
    "11., Készíts egy függvényt, ami a bemeneti Dataframe adatai alapján elkészít egy olyan kördiagramot, ami vizualizálja a diákok etnikum csoportok szerinti eloszlását százalékosan.\n",
    "\n",
    "Érdemes megszámolni a diákok számát, etnikum csoportonként,majd a százalékos kirajzolást az autopct='%1.1f%%' paraméterrel megadható.\n",
    "Mindegyik kör szelethez tartozzon egy címke, ami a csoport nevét tartalmazza.\n",
    "A diagram címe legyen: 'Proportion of Students by Race/Ethnicity'\n",
    "\n",
    "függvény bemente: input_df\n",
    "Egy példa a kimenetre: fig\n",
    "kimeneti típus: matplotlib.figure.Figure\n",
    "függvény neve: ethnicity_pie_chart\n",
    "'''"
   ],
   "metadata": {
    "collapsed": false
   },
   "id": "2e202c23683b5f7"
  },
  {
   "cell_type": "code",
   "execution_count": null,
   "outputs": [],
   "source": [
    "import matplotlib.pyplot as plt\n",
    "\n",
    "def ethnicity_pie_chart(input_df):\n",
    "    ethnicity_counts = input_df['race/ethnicity'].value_counts()\n",
    "\n",
    "    fig, ax = plt.subplots(figsize=(8, 8))\n",
    "    ax.pie(ethnicity_counts, labels=ethnicity_counts.index, autopct='%1.1f%%', startangle=90)\n",
    "\n",
    "    ax.set_title('Proportion of Students by Race/Ethnicity')\n",
    "\n",
    "    return fig\n",
    "\n",
    "# usage\n",
    "plot = ethnicity_pie_chart(df_1)\n",
    "plot.show()"
   ],
   "metadata": {
    "collapsed": false
   },
   "id": "23a9a1992cca1303"
  },
  {
   "cell_type": "markdown",
   "source": [
    "Szimulációs feladat"
   ],
   "metadata": {
    "collapsed": false
   },
   "id": "6861dbeedc835c61"
  },
  {
   "cell_type": "code",
   "execution_count": null,
   "outputs": [],
   "source": [
    "\"\"\"\n",
    "1. Készíts egy függvényt, ami létrehoz egy listát, benne number_of_trajectories db listával. A belső listák létrehozásának logikája a következő:\n",
    "    A bemeneti paraméterként kapott normal_distribution osztály felhasználásával (NormalDistribution 0,1 paraméterekkel) generálj length_of_trajectory véletlen számot\n",
    "    A belső lista tartalmazza a generált számok kumulatív átlagát.\n",
    "    Ismételd meg number_of_trajectories alkalommal (mindegyik belső listába egyszer)\n",
    "\n",
    "függvény bemenete: normal_distribution, number_of_trajectories, length_of_trajectory\n",
    "kimeneti típus: List    \n",
    "függvény neve: generate_mean_trajectories\n",
    "\"\"\""
   ],
   "metadata": {
    "collapsed": false
   },
   "id": "d36c0a7156750c9e"
  },
  {
   "cell_type": "code",
   "execution_count": null,
   "outputs": [],
   "source": [],
   "metadata": {
    "collapsed": false
   },
   "id": "1d0eeb60b6bde96a"
  },
  {
   "cell_type": "markdown",
   "source": [
    "A 2. feladatban használhatsz numpy-t."
   ],
   "metadata": {
    "collapsed": false
   },
   "id": "a25908675ef61ba3"
  },
  {
   "cell_type": "code",
   "execution_count": null,
   "outputs": [],
   "source": [
    "\"\"\"\n",
    "2., Az előző feladatban létrehozott listák listáját ábrázold vonal ábrával. Minden vonal feleljen meg 1 belső listának (50 vonal legyen az ábrán)\n",
    "\n",
    "Az ábra címe: Mean trajectories\n",
    "\n",
    "függvény bemente: input_list\n",
    "függvény kimenete: fig\n",
    "kimeneti típus: matplotlib.figure.Figure\n",
    "\n",
    "\"\"\""
   ],
   "metadata": {
    "collapsed": false
   },
   "id": "d6d868238a5b5f73"
  },
  {
   "cell_type": "code",
   "execution_count": null,
   "outputs": [],
   "source": [],
   "metadata": {
    "collapsed": false
   },
   "id": "77ce6db0ee09b724"
  }
 ],
 "metadata": {
  "kernelspec": {
   "display_name": "Python 3",
   "language": "python",
   "name": "python3"
  },
  "language_info": {
   "codemirror_mode": {
    "name": "ipython",
    "version": 2
   },
   "file_extension": ".py",
   "mimetype": "text/x-python",
   "name": "python",
   "nbconvert_exporter": "python",
   "pygments_lexer": "ipython2",
   "version": "2.7.6"
  }
 },
 "nbformat": 4,
 "nbformat_minor": 5
}
